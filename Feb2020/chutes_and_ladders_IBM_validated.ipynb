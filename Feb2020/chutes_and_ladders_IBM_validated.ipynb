{
 "cells": [
  {
   "cell_type": "code",
   "execution_count": 1,
   "metadata": {},
   "outputs": [],
   "source": [
    "import numpy as np\n",
    "import matplotlib.pyplot as plt"
   ]
  },
  {
   "cell_type": "code",
   "execution_count": 127,
   "metadata": {},
   "outputs": [],
   "source": [
    "CHUTES_LADDERS = {1:38, 4:14, 9:31, 16:6, 21:42, 28:84, 36:44,\n",
    "                  47:26, 49:11, 51:67, 56:53, 62:19, 64:60,\n",
    "                  71:91, 80:100, 87:24, 93:73, 95:75, 98:78}"
   ]
  },
  {
   "cell_type": "code",
   "execution_count": 128,
   "metadata": {},
   "outputs": [
    {
     "name": "stdout",
     "output_type": "stream",
     "text": [
      "[[0.         0.16666667 0.16666667 ... 0.         0.         0.        ]\n",
      " [0.         0.         0.16666667 ... 0.         0.         0.        ]\n",
      " [0.         0.         0.         ... 0.         0.         0.        ]\n",
      " ...\n",
      " [0.         0.         0.         ... 0.66666667 0.16666667 0.16666667]\n",
      " [0.         0.         0.         ... 0.         0.83333333 0.16666667]\n",
      " [0.         0.         0.         ... 0.         0.         1.        ]]\n"
     ]
    }
   ],
   "source": [
    "imax = 101\n",
    "P = np.zeros((imax,imax))\n",
    "\n",
    "for i in range(imax):\n",
    "    if i < imax-6:\n",
    "        for j in range(i+1,i+7):\n",
    "            P[i,j] = 1.0/6.0\n",
    "    else:\n",
    "        extra = (i+6)-imax\n",
    "        for j in range(i,imax):\n",
    "            if i == j:\n",
    "                P[i,j] = (1.0+extra)/6.0\n",
    "            else:\n",
    "                P[i,j] = 1.0/6.0\n",
    "\n",
    "print(P)"
   ]
  },
  {
   "cell_type": "code",
   "execution_count": 133,
   "metadata": {},
   "outputs": [
    {
     "name": "stdout",
     "output_type": "stream",
     "text": [
      "[[0.         0.         0.16666667 ... 0.         0.         0.        ]\n",
      " [0.         0.         0.         ... 0.         0.         0.        ]\n",
      " [0.         0.         0.         ... 0.         0.         0.        ]\n",
      " ...\n",
      " [0.         0.         0.         ... 0.         0.         0.        ]\n",
      " [0.         0.         0.         ... 0.         0.83333333 0.16666667]\n",
      " [0.         0.         0.         ... 0.         0.         1.        ]]\n"
     ]
    }
   ],
   "source": [
    "p_star = P.copy()\n",
    "for c in CHUTES_LADDERS:\n",
    "    for k in range(imax):\n",
    "        p_star[c][k] = 0.0\n",
    "    for k in range(imax):\n",
    "        if not k == (c):\n",
    "            p_star[k][CHUTES_LADDERS[c]] = P[k][CHUTES_LADDERS[c]]+P[k][c]\n",
    "    for k in range(imax):\n",
    "        p_star[k][c] = 0.0\n",
    "print(p_star)"
   ]
  },
  {
   "cell_type": "code",
   "execution_count": 134,
   "metadata": {},
   "outputs": [
    {
     "name": "stdout",
     "output_type": "stream",
     "text": [
      "[39.22512231]\n"
     ]
    }
   ],
   "source": [
    "Q = p_star[:imax-1,:imax-1]\n",
    "N = np.linalg.inv(np.eye(imax-1)-Q)\n",
    "ones = np.full(imax-1,1).reshape(-1,1)\n",
    "print(np.matmul(N,ones)[0])"
   ]
  },
  {
   "cell_type": "code",
   "execution_count": null,
   "metadata": {},
   "outputs": [],
   "source": []
  },
  {
   "cell_type": "code",
   "execution_count": null,
   "metadata": {},
   "outputs": [],
   "source": []
  }
 ],
 "metadata": {
  "kernelspec": {
   "display_name": "Python 3",
   "language": "python",
   "name": "python3"
  },
  "language_info": {
   "codemirror_mode": {
    "name": "ipython",
    "version": 3
   },
   "file_extension": ".py",
   "mimetype": "text/x-python",
   "name": "python",
   "nbconvert_exporter": "python",
   "pygments_lexer": "ipython3",
   "version": "3.7.2"
  }
 },
 "nbformat": 4,
 "nbformat_minor": 2
}
