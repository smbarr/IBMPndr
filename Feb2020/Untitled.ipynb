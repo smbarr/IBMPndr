{
 "cells": [
  {
   "cell_type": "code",
   "execution_count": 1,
   "metadata": {},
   "outputs": [],
   "source": [
    "import numpy as np\n",
    "import matplotlib.pyplot as plt"
   ]
  },
  {
   "cell_type": "code",
   "execution_count": 12,
   "metadata": {},
   "outputs": [],
   "source": [
    "CHUTES_LADDERS = {1:38, 4:14, 9:31, 16:6, 21:42, 28:84, 36:44,\n",
    "                  47:26, 49:11, 51:67, 56:53, 62:19, 64:60,\n",
    "                  71:91, 80:100, 87:24, 93:73, 95:75, 98:78}\n",
    "# CHUTES_LADDERS = {1:38,4:14,9:31,21:42,28:84,36:44,\n",
    "#                   51:67,71:91,80:100,16:6,47:26,\n",
    "#                   49:11,56:53,62:19,64:60,87:24,\n",
    "#                   93:73,95:75,98:78}\n",
    "# CHUTES_LADDERS = {46:25,71:14,28:30,4:12,98:31,13:9,15:49,76:8,92:46,29:47}"
   ]
  },
  {
   "cell_type": "code",
   "execution_count": 13,
   "metadata": {},
   "outputs": [
    {
     "data": {
      "image/png": "[encoded data removed]",
      "text/plain": [
       "<Figure size 288x288 with 1 Axes>"
      ]
     },
     "metadata": {
      "needs_background": "light"
     },
     "output_type": "display_data"
    }
   ],
   "source": [
    "def cl_markov_matrix(max_roll=6, jump_at_end=True):\n",
    "    \"\"\"\n",
    "    Create a Markov transition matrix\n",
    "    \n",
    "    If jump_at_end is True, then apply ladder/chute jumps at the end of each turn.\n",
    "    If False, then apply them at the beginning of the next turn.\n",
    "    \"\"\"  \n",
    "    # Create the basic transition matrix:\n",
    "    mat = np.zeros((101, 101))\n",
    "    for i in range(101):\n",
    "        mat[i + 1:i + 1 + max_roll, i] = 1. / max_roll\n",
    "        \n",
    "    # We could alternatively use scipy.linalg.circulent as follows:\n",
    "    # mat = circulant([0, *np.ones(max_rolls) / 6, *np.zeros(100)])[:101, :101]\n",
    "\n",
    "    # rolls off the end of the board don't change the state;\n",
    "    # add these probabilities to the diagonal\n",
    "    mat[range(101), range(101)] += 1 - mat.sum(0)\n",
    "\n",
    "    # account for the presence of chutes and ladders\n",
    "    # we'll do this via  another transition matrix\n",
    "    cl_mat = np.zeros((101, 101))\n",
    "    ind = [CHUTES_LADDERS.get(i, i) for i in range(101)]\n",
    "    cl_mat[ind, range(101)] = 1\n",
    "    if jump_at_end:\n",
    "        return cl_mat @ mat\n",
    "    else:\n",
    "        return mat @ cl_mat\n",
    "\n",
    "mat = cl_markov_matrix()\n",
    "plt.matshow(mat)\n",
    "plt.grid(False)"
   ]
  },
  {
   "cell_type": "code",
   "execution_count": 14,
   "metadata": {},
   "outputs": [],
   "source": [
    "def cl_probability(n):\n",
    "    \"\"\"Compute the state vector after n turns\"\"\"\n",
    "    mat = cl_markov_matrix()\n",
    "    v_0 = [1, *np.zeros(100)]\n",
    "    return np.linalg.matrix_power(mat, n) @ v_0"
   ]
  },
  {
   "cell_type": "code",
   "execution_count": 15,
   "metadata": {},
   "outputs": [],
   "source": [
    "probs = [cl_probability(i)[-1] for i in range(200)]"
   ]
  },
  {
   "cell_type": "code",
   "execution_count": 16,
   "metadata": {},
   "outputs": [
    {
     "data": {
      "text/plain": [
       "39.10646029071448"
      ]
     },
     "execution_count": 16,
     "metadata": {},
     "output_type": "execute_result"
    }
   ],
   "source": [
    "turns = np.arange(1, len(probs))\n",
    "np.dot(np.diff(probs), turns)"
   ]
  },
  {
   "cell_type": "code",
   "execution_count": null,
   "metadata": {},
   "outputs": [],
   "source": []
  }
 ],
 "metadata": {
  "kernelspec": {
   "display_name": "Python 3",
   "language": "python",
   "name": "python3"
  },
  "language_info": {
   "codemirror_mode": {
    "name": "ipython",
    "version": 3
   },
   "file_extension": ".py",
   "mimetype": "text/x-python",
   "name": "python",
   "nbconvert_exporter": "python",
   "pygments_lexer": "ipython3",
   "version": "3.7.2"
  }
 },
 "nbformat": 4,
 "nbformat_minor": 2
}
