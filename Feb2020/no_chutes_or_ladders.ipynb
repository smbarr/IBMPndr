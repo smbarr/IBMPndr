{
 "cells": [
  {
   "cell_type": "code",
   "execution_count": 1,
   "metadata": {},
   "outputs": [],
   "source": [
    "import numpy as np\n",
    "import matplotlib.pyplot as plt"
   ]
  },
  {
   "cell_type": "code",
   "execution_count": 2,
   "metadata": {},
   "outputs": [
    {
     "name": "stdout",
     "output_type": "stream",
     "text": [
      "0.9999999999999999445\n"
     ]
    }
   ],
   "source": [
    "M = np.zeros((101,101),dtype=np.float128)\n",
    "\n",
    "for i in range(1,100):\n",
    "    cnt = max(0,i-6)\n",
    "    for j in range(cnt,i+0):\n",
    "        M[i,j] = 1.0/6.0\n",
    "for i in range(1,7):\n",
    "    M[100,100-i] = (7.0-i)/6.0\n",
    "M[100,100] = 1.0\n",
    "\n",
    "print(np.sum(M[:,0]))"
   ]
  },
  {
   "cell_type": "code",
   "execution_count": 3,
   "metadata": {},
   "outputs": [
    {
     "name": "stdout",
     "output_type": "stream",
     "text": [
      "[[0.         0.         0.         ... 0.         0.         0.        ]\n",
      " [0.16666667 0.         0.         ... 0.         0.         0.        ]\n",
      " [0.16666667 0.16666667 0.         ... 0.         0.         0.        ]\n",
      " ...\n",
      " [0.         0.         0.         ... 0.         0.         0.        ]\n",
      " [0.         0.         0.         ... 0.16666667 0.         0.        ]\n",
      " [0.         0.         0.         ... 0.83333333 1.         1.        ]]\n"
     ]
    }
   ],
   "source": [
    "print(M)"
   ]
  },
  {
   "cell_type": "code",
   "execution_count": 19,
   "metadata": {},
   "outputs": [],
   "source": [
    "e1 = np.zeros((101,1))\n",
    "e1[0] = 1.0\n",
    "e1 = e1.reshape(-1,1)"
   ]
  },
  {
   "cell_type": "code",
   "execution_count": 22,
   "metadata": {},
   "outputs": [
    {
     "name": "stdout",
     "output_type": "stream",
     "text": [
      "[0.]\n",
      "[0.]\n",
      "[0.]\n",
      "[0.]\n",
      "[0.]\n",
      "[0.]\n",
      "[0.]\n",
      "[0.]\n",
      "[0.]\n",
      "[0.]\n",
      "[0.]\n",
      "[0.]\n",
      "[0.]\n",
      "[0.]\n",
      "[0.]\n",
      "[0.]\n",
      "[1.01024068e-11]\n",
      "[1.53491105e-08]\n",
      "[1.27455694e-06]\n",
      "[3.02495897e-05]\n",
      "[0.00033649]\n",
      "[0.0022102]\n",
      "[0.00978177]\n",
      "[0.03176037]\n",
      "[0.08031028]\n",
      "[0.16539797]\n",
      "[0.28748228]\n",
      "[0.43441922]\n",
      "[0.58566031]\n",
      "[0.72088998]\n",
      "[0.82728786]\n",
      "[0.90174786]\n",
      "[0.94851994]\n",
      "[0.97509584]\n",
      "[0.98884646]\n",
      "[0.99536271]\n",
      "[0.99820523]\n",
      "[0.9993517]\n",
      "[0.9997809]\n",
      "[0.99993056]\n",
      "[0.99997932]\n",
      "[0.9999942]\n",
      "[0.99999847]\n",
      "[0.99999962]\n",
      "[0.99999991]\n",
      "[0.99999998]\n",
      "[1.]\n",
      "[1.]\n",
      "[1.]\n",
      "[1.]\n",
      "[1.]\n",
      "[1.]\n",
      "[1.]\n",
      "[1.]\n",
      "[1.]\n",
      "[1.]\n",
      "[1.]\n",
      "[1.]\n",
      "[1.]\n",
      "[1.]\n",
      "[1.]\n",
      "[1.]\n",
      "[1.]\n",
      "[1.]\n",
      "[1.]\n",
      "[1.]\n",
      "[1.]\n",
      "[1.]\n",
      "[1.]\n",
      "[1.]\n",
      "[1.]\n",
      "[1.]\n",
      "[1.]\n",
      "[1.]\n",
      "[1.]\n",
      "[1.]\n",
      "[1.]\n",
      "[1.]\n",
      "[1.]\n",
      "[1.]\n",
      "[1.]\n",
      "[1.]\n",
      "[1.]\n",
      "[1.]\n",
      "[1.]\n",
      "[1.]\n",
      "[1.]\n",
      "[1.]\n",
      "[1.]\n",
      "[1.]\n",
      "[1.]\n",
      "[1.]\n",
      "[1.]\n",
      "[1.]\n",
      "[1.]\n",
      "[1.]\n",
      "[1.]\n",
      "[1.]\n",
      "[1.]\n",
      "[1.]\n",
      "[1.]\n"
     ]
    }
   ],
   "source": [
    "win_prob = []\n",
    "moves = np.linspace(1,101,101)\n",
    "res = e1.copy()\n",
    "for n in range(101):\n",
    "    res = np.matmul(M, res, dtype=np.float128)\n",
    "    win_prob.append(res[-1])\n",
    "    print(res[-1])"
   ]
  },
  {
   "cell_type": "code",
   "execution_count": 23,
   "metadata": {},
   "outputs": [
    {
     "data": {
      "text/plain": [
       "[<matplotlib.lines.Line2D at 0x10f2daba8>]"
      ]
     },
     "execution_count": 23,
     "metadata": {},
     "output_type": "execute_result"
    },
    {
     "data": {
      "image/png": "[encoded data removed]",
      "text/plain": [
       "<Figure size 504x360 with 1 Axes>"
      ]
     },
     "metadata": {
      "needs_background": "light"
     },
     "output_type": "display_data"
    }
   ],
   "source": [
    "plt.figure(figsize=(7,5))\n",
    "plt.xlim(1,100)\n",
    "plt.ylim(0.0,1.2)\n",
    "plt.grid()\n",
    "plt.plot(moves, win_prob, '.-b')"
   ]
  },
  {
   "cell_type": "code",
   "execution_count": 24,
   "metadata": {},
   "outputs": [],
   "source": [
    "prob = []\n",
    "prob.append(0.0)\n",
    "res = e1.copy()\n",
    "for n in range(1,101):\n",
    "    # res = np.matmul(M, res)\n",
    "    prob.append(win_prob[n]-win_prob[n-1])"
   ]
  },
  {
   "cell_type": "code",
   "execution_count": 25,
   "metadata": {},
   "outputs": [
    {
     "data": {
      "text/plain": [
       "[<matplotlib.lines.Line2D at 0x10f3a3b70>]"
      ]
     },
     "execution_count": 25,
     "metadata": {},
     "output_type": "execute_result"
    },
    {
     "data": {
      "image/png": "[encoded data removed]",
      "text/plain": [
       "<Figure size 504x360 with 1 Axes>"
      ]
     },
     "metadata": {
      "needs_background": "light"
     },
     "output_type": "display_data"
    }
   ],
   "source": [
    "plt.figure(figsize=(7,5))\n",
    "plt.xlim(1,100)\n",
    "plt.ylim(0.0,0.16)\n",
    "plt.grid()\n",
    "plt.plot(moves,prob,'.-b')"
   ]
  },
  {
   "cell_type": "code",
   "execution_count": 28,
   "metadata": {},
   "outputs": [],
   "source": [
    "n_moves = 0\n",
    "for n in range(1,101):\n",
    "    n_moves += ((n+1)*(win_prob[n]-win_prob[n-1]))"
   ]
  },
  {
   "cell_type": "code",
   "execution_count": 29,
   "metadata": {},
   "outputs": [
    {
     "name": "stdout",
     "output_type": "stream",
     "text": [
      "[29.04761905]\n"
     ]
    }
   ],
   "source": [
    "print(n_moves)"
   ]
  },
  {
   "cell_type": "code",
   "execution_count": null,
   "metadata": {},
   "outputs": [],
   "source": []
  }
 ],
 "metadata": {
  "kernelspec": {
   "display_name": "Python 3",
   "language": "python",
   "name": "python3"
  },
  "language_info": {
   "codemirror_mode": {
    "name": "ipython",
    "version": 3
   },
   "file_extension": ".py",
   "mimetype": "text/x-python",
   "name": "python",
   "nbconvert_exporter": "python",
   "pygments_lexer": "ipython3",
   "version": "3.7.2"
  }
 },
 "nbformat": 4,
 "nbformat_minor": 2
}
