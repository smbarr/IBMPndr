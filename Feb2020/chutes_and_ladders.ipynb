{
 "cells": [
  {
   "cell_type": "code",
   "execution_count": 1,
   "metadata": {},
   "outputs": [],
   "source": [
    "import numpy as np\n",
    "import matplotlib.pyplot as plt"
   ]
  },
  {
   "cell_type": "code",
   "execution_count": 205,
   "metadata": {},
   "outputs": [
    {
     "name": "stdout",
     "output_type": "stream",
     "text": [
      "[[0.         0.         0.         ... 0.         0.         0.        ]\n",
      " [0.16666667 0.         0.         ... 0.         0.         0.        ]\n",
      " [0.16666667 0.16666667 0.         ... 0.         0.         0.        ]\n",
      " ...\n",
      " [0.         0.         0.         ... 0.         0.         0.        ]\n",
      " [0.         0.         0.         ... 0.16666667 0.         0.        ]\n",
      " [0.         0.         0.         ... 0.83333333 1.         1.        ]]\n"
     ]
    }
   ],
   "source": [
    "M = np.zeros((101,101))\n",
    "\n",
    "for i in range(1,100):\n",
    "    cnt = max(0,i-6)\n",
    "    for j in range(cnt,i+0):\n",
    "        M[i,j] = 1.0/6.0\n",
    "for i in range(1,7):\n",
    "    M[100,100-i] = (7.0-i)/6.0\n",
    "M[100,100] = 1.0\n",
    "\n",
    "print(M)"
   ]
  },
  {
   "cell_type": "code",
   "execution_count": 193,
   "metadata": {},
   "outputs": [
    {
     "name": "stdout",
     "output_type": "stream",
     "text": [
      "[[1. 0. 0. ... 0. 0. 0.]\n",
      " [0. 1. 0. ... 0. 0. 0.]\n",
      " [0. 0. 1. ... 0. 0. 0.]\n",
      " ...\n",
      " [0. 0. 0. ... 0. 0. 0.]\n",
      " [0. 0. 0. ... 0. 1. 0.]\n",
      " [0. 0. 0. ... 0. 0. 1.]]\n"
     ]
    }
   ],
   "source": [
    "cl = {39:1, 14:4, 31:9, 84:28, 44:36, 67:51, 100:80, 91:71, \n",
    "      6:16, 26:47, 11:49, 53:56, 60:64, 73:92, 75:95, 78:98}\n",
    "cl = {38:1, 14:4, 31:9, 42:21, 84:28, 44:36, 67:51, 91:71, 100:80,\n",
    "     6:16, 26:47, 11:49, 53:56, 19:62, 60:64, 24:87, 73:93, 75:95,\n",
    "     78:98}\n",
    "cl = {1:60,21:53,19:89,27:58,89:72,30:96,60:15,36:28,12:83,50:4}\n",
    "cl = {38:1, 14:4, 31:9, 6:16, 42:21, 84:28, 44:36,\n",
    "                  26:47, 11:49, 67:51, 53:56, 19:62, 60:64,\n",
    "                  91:71, 100:80, 24:87, 73:93, 75:95, 78:98}\n",
    "cl = {52:12,49:81,58:77,34:84,65:51,51:97,85:91,17:15,16:65,11:1}\n",
    "cl = {25:46,14:71,30:28,12:4,31:98,9:13,49:15,8:76,46:92,47:29}\n",
    "T = np.zeros((101,101))\n",
    "\n",
    "for n in cl:\n",
    "    T[n, cl[n]] = 1\n",
    "    #T[cl[n], n] = 1\n",
    "    \n",
    "for j in range(101):\n",
    "    if np.sum(T[:,j]) == 0:\n",
    "        T[j,j] = 1\n",
    "print(T)\n",
    "# for n in range(101):\n",
    "#     print(np.sum(T[:,n]))"
   ]
  },
  {
   "cell_type": "code",
   "execution_count": 194,
   "metadata": {},
   "outputs": [],
   "source": [
    "e1 = np.zeros((101,1))\n",
    "e1[0] = 1.0\n",
    "e1 = e1.reshape(-1,1)"
   ]
  },
  {
   "cell_type": "code",
   "execution_count": 195,
   "metadata": {},
   "outputs": [],
   "source": [
    "win_prob = []\n",
    "moves = np.linspace(1,1000,1000)\n",
    "res = e1.copy()\n",
    "for n in range(1000):\n",
    "    res = np.matmul(T, np.matmul(M, res))\n",
    "    win_prob.append(res[-1])"
   ]
  },
  {
   "cell_type": "code",
   "execution_count": 196,
   "metadata": {},
   "outputs": [
    {
     "name": "stdout",
     "output_type": "stream",
     "text": [
      "[0.08884337]\n"
     ]
    },
    {
     "data": {
      "image/png": "[encoded data removed]",
      "text/plain": [
       "<Figure size 504x360 with 1 Axes>"
      ]
     },
     "metadata": {
      "needs_background": "light"
     },
     "output_type": "display_data"
    }
   ],
   "source": [
    "plt.figure(figsize=(7,5))\n",
    "plt.xlim(1,1000)\n",
    "plt.ylim(0.0,1.2)\n",
    "plt.grid()\n",
    "plt.plot(moves, win_prob, '.-b')\n",
    "print(win_prob[20])"
   ]
  },
  {
   "cell_type": "code",
   "execution_count": 197,
   "metadata": {},
   "outputs": [],
   "source": [
    "prob = []\n",
    "prob.append(0.0)\n",
    "res = e1.copy()\n",
    "for n in range(1,1000):\n",
    "    # res = np.matmul(M, res)\n",
    "    prob.append(win_prob[n]-win_prob[n-1])"
   ]
  },
  {
   "cell_type": "code",
   "execution_count": 198,
   "metadata": {},
   "outputs": [
    {
     "data": {
      "text/plain": [
       "[<matplotlib.lines.Line2D at 0x1154032e8>]"
      ]
     },
     "execution_count": 198,
     "metadata": {},
     "output_type": "execute_result"
    },
    {
     "data": {
      "image/png": "[encoded data removed]",
      "text/plain": [
       "<Figure size 504x360 with 1 Axes>"
      ]
     },
     "metadata": {
      "needs_background": "light"
     },
     "output_type": "display_data"
    }
   ],
   "source": [
    "plt.figure(figsize=(7,5))\n",
    "plt.xlim(1,100)\n",
    "plt.ylim(0.0,0.16)\n",
    "plt.grid()\n",
    "plt.plot(moves,prob,'.-b')"
   ]
  },
  {
   "cell_type": "code",
   "execution_count": 199,
   "metadata": {},
   "outputs": [],
   "source": [
    "n_moves = 0\n",
    "for n in range(1,1000):\n",
    "    n_moves += ((n+1)*(win_prob[n]-win_prob[n-1]))"
   ]
  },
  {
   "cell_type": "code",
   "execution_count": 200,
   "metadata": {},
   "outputs": [
    {
     "name": "stdout",
     "output_type": "stream",
     "text": [
      "[66.97870537]\n"
     ]
    }
   ],
   "source": [
    "print(n_moves)"
   ]
  },
  {
   "cell_type": "code",
   "execution_count": 201,
   "metadata": {},
   "outputs": [],
   "source": [
    "A = np.matmul(T,M).T[0:100,0:100]\n",
    "#A = M[0:100,0:100]"
   ]
  },
  {
   "cell_type": "code",
   "execution_count": 202,
   "metadata": {},
   "outputs": [],
   "source": [
    "N = np.linalg.inv(np.subtract(np.eye(100),A))"
   ]
  },
  {
   "cell_type": "code",
   "execution_count": 204,
   "metadata": {},
   "outputs": [
    {
     "name": "stdout",
     "output_type": "stream",
     "text": [
      "[66.97870868]\n"
     ]
    }
   ],
   "source": [
    "print(np.matmul(N,np.full(100,1).reshape(-1,1))[0])"
   ]
  },
  {
   "cell_type": "code",
   "execution_count": null,
   "metadata": {},
   "outputs": [],
   "source": []
  }
 ],
 "metadata": {
  "kernelspec": {
   "display_name": "Python 3",
   "language": "python",
   "name": "python3"
  },
  "language_info": {
   "codemirror_mode": {
    "name": "ipython",
    "version": 3
   },
   "file_extension": ".py",
   "mimetype": "text/x-python",
   "name": "python",
   "nbconvert_exporter": "python",
   "pygments_lexer": "ipython3",
   "version": "3.7.2"
  }
 },
 "nbformat": 4,
 "nbformat_minor": 2
}
