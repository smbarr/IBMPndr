{
 "cells": [
  {
   "cell_type": "code",
   "execution_count": 1,
   "id": "ab35f3f8-3c7d-4298-b813-be66b7f5f695",
   "metadata": {},
   "outputs": [],
   "source": [
    "import numpy as np"
   ]
  },
  {
   "cell_type": "code",
   "execution_count": 23,
   "id": "5e4597eb-2465-4e17-8cd3-b90bf3169f83",
   "metadata": {},
   "outputs": [],
   "source": [
    "def calcDamage(v, h):\n",
    "    v = v.replace(\"-\",\"0\")\n",
    "    h = h.replace(\"-\",\"0\")\n",
    "    damage = 0\n",
    "    for i in range(len(v)):\n",
    "        damage += np.abs(int(v[i])-int(h[i]))\n",
    "    return damage"
   ]
  },
  {
   "cell_type": "code",
   "execution_count": 28,
   "id": "1e9f3f5c-6e07-4f54-86e5-f3938b4a8068",
   "metadata": {},
   "outputs": [],
   "source": [
    "villains = \"-2718-28182846\"\n",
    "heroes = \"027-8027-83945\""
   ]
  },
  {
   "cell_type": "code",
   "execution_count": 29,
   "id": "ad40f01f-d6ac-4c11-983a-3fa148673e67",
   "metadata": {},
   "outputs": [
    {
     "data": {
      "text/plain": [
       "6"
      ]
     },
     "execution_count": 29,
     "metadata": {},
     "output_type": "execute_result"
    }
   ],
   "source": [
    "calcDamage(villains, heroes)"
   ]
  },
  {
   "cell_type": "code",
   "execution_count": null,
   "id": "6a43462e-f488-47ea-9278-c4d34f330d44",
   "metadata": {},
   "outputs": [],
   "source": []
  }
 ],
 "metadata": {
  "kernelspec": {
   "display_name": "Python 3",
   "language": "python",
   "name": "python3"
  },
  "language_info": {
   "codemirror_mode": {
    "name": "ipython",
    "version": 3
   },
   "file_extension": ".py",
   "mimetype": "text/x-python",
   "name": "python",
   "nbconvert_exporter": "python",
   "pygments_lexer": "ipython3",
   "version": "3.8.8"
  }
 },
 "nbformat": 4,
 "nbformat_minor": 5
}
