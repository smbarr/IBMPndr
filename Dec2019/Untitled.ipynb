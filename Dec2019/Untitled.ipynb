{
 "cells": [
  {
   "cell_type": "code",
   "execution_count": 1,
   "metadata": {},
   "outputs": [],
   "source": [
    "import os, sys\n",
    "import numpy as np\n",
    "from scipy.optimize import fmin_slsqp\n",
    "from scipy import optimize\n",
    "import matplotlib.pyplot as plt\n",
    "import scipy.integrate as integrate\n",
    "from sympy import *"
   ]
  },
  {
   "cell_type": "code",
   "execution_count": 2,
   "metadata": {},
   "outputs": [],
   "source": [
    "def obj(x, *args):\n",
    "    xa = np.linspace(-1,1,1000)\n",
    "    #res = integrate((x+c[0])*(x+c[1])*(x+c[2])+(x+c[3])*(x+c[4])*(x+c[5])+(x+c[6])*(x+c[7])+(x+c[8])*(x+c[9]),x)\n",
    "    #f = lambdify(x, res, \"numpy\")\n",
    "    f = x[0]/((xa+x[5])**3)+x[1]/((xa+x[6])**2)+x[2]*((xa+x[7])**3)+x[3]*(xa+x[8])**2+x[4]*(xa+x[9])**3-x[10]\n",
    "    ab = np.abs(xa)\n",
    "\n",
    "    mse = np.square(np.subtract(f, ab)).mean()\n",
    "\n",
    "    return mse"
   ]
  },
  {
   "cell_type": "code",
   "execution_count": 3,
   "metadata": {},
   "outputs": [],
   "source": [
    "def get_function(x):\n",
    "    xa = np.linspace(-1,1,1000)\n",
    "    f = x[0]/((xa+x[5])**3)+x[1]/((xa+x[6])**2)+x[2]*((xa+x[7])**3)+x[3]*(xa+x[8])**2+x[4]*(xa+x[9])**3-x[10]\n",
    "    #res = integrate((x+c[0])*(x+c[1])*(x+c[2])+(x+c[3])*(x+c[4])*(x+c[5])+(x+c[6])*(x+c[7])+(x+c[8])*(x+c[9]),x)\n",
    "    #f = lambdify(x, res, \"numpy\")\n",
    "    return xa, f"
   ]
  },
  {
   "cell_type": "code",
   "execution_count": 4,
   "metadata": {},
   "outputs": [],
   "source": [
    "x0 = [1.0 for n in range(11)]\n",
    "bounds = [(-1.0e10,1.0e10) for n in range(4)]\n",
    "bounds[2] = (0.0,0.2)"
   ]
  },
  {
   "cell_type": "code",
   "execution_count": 5,
   "metadata": {},
   "outputs": [],
   "source": [
    "def print_fun(x, f, accepted):\n",
    "    print(\"at minima %e accepted %d\" % (f, int(accepted)))"
   ]
  },
  {
   "cell_type": "code",
   "execution_count": 6,
   "metadata": {},
   "outputs": [
    {
     "name": "stderr",
     "output_type": "stream",
     "text": [
      "/Library/Frameworks/Python.framework/Versions/3.7/lib/python3.7/site-packages/ipykernel_launcher.py:5: RuntimeWarning: divide by zero encountered in true_divide\n",
      "  \"\"\"\n",
      "/Library/Frameworks/Python.framework/Versions/3.7/lib/python3.7/site-packages/scipy/optimize/optimize.py:697: RuntimeWarning: invalid value encountered in double_scalars\n",
      "  df = (f(*((xk + d,) + args)) - f0) / d[k]\n"
     ]
    },
    {
     "name": "stdout",
     "output_type": "stream",
     "text": [
      "at minima 3.635511e-03 accepted 1\n",
      "at minima 3.365086e+00 accepted 0\n",
      "at minima 5.265712e-03 accepted 1\n",
      "at minima 1.000760e+02 accepted 0\n",
      "at minima 4.378912e-03 accepted 1\n",
      "at minima 4.194552e-03 accepted 1\n",
      "at minima 4.600391e-03 accepted 1\n",
      "at minima 1.715272e-02 accepted 1\n",
      "at minima 5.216786e-03 accepted 1\n",
      "at minima 5.218851e-03 accepted 1\n",
      "at minima 2.052263e-03 accepted 1\n",
      "at minima 1.554057e-03 accepted 1\n",
      "at minima 1.552233e-03 accepted 1\n",
      "at minima 1.552252e-03 accepted 1\n",
      "at minima 1.552332e-03 accepted 1\n",
      "at minima 1.552163e-03 accepted 1\n",
      "at minima 1.552170e-03 accepted 1\n",
      "at minima 1.552122e-03 accepted 1\n",
      "at minima 1.551964e-03 accepted 1\n",
      "at minima 1.551878e-03 accepted 1\n",
      "at minima 1.551875e-03 accepted 1\n",
      "at minima 1.552029e-03 accepted 1\n",
      "at minima 1.552088e-03 accepted 1\n",
      "at minima 1.552335e-03 accepted 1\n",
      "at minima 1.552179e-03 accepted 1\n",
      "at minima 5.437057e-03 accepted 1\n",
      "at minima 5.217616e-03 accepted 1\n",
      "at minima 5.219426e-03 accepted 1\n",
      "at minima 5.216782e-03 accepted 1\n",
      "at minima 5.227835e-03 accepted 1\n",
      "at minima 5.224076e-03 accepted 1\n",
      "at minima 5.216625e-03 accepted 1\n",
      "at minima 5.485746e-03 accepted 1\n",
      "at minima 5.240641e-03 accepted 1\n",
      "at minima 5.218539e-03 accepted 1\n",
      "at minima 5.216220e-03 accepted 1\n",
      "at minima 5.278588e-03 accepted 1\n",
      "at minima 5.225016e-03 accepted 1\n",
      "at minima 5.236797e-03 accepted 1\n",
      "at minima 5.214145e-03 accepted 1\n",
      "at minima 5.213272e-03 accepted 1\n",
      "at minima 1.560633e-03 accepted 1\n",
      "at minima 4.112805e-03 accepted 1\n",
      "at minima 1.560836e-03 accepted 1\n",
      "at minima 1.560664e-03 accepted 1\n",
      "at minima 1.560553e-03 accepted 1\n",
      "at minima 1.560490e-03 accepted 1\n",
      "at minima 1.560466e-03 accepted 1\n",
      "at minima 1.560408e-03 accepted 1\n",
      "at minima 1.560326e-03 accepted 1\n",
      "at minima 1.560121e-03 accepted 1\n",
      "at minima 1.560116e-03 accepted 1\n",
      "at minima 1.560001e-03 accepted 1\n",
      "at minima 1.560014e-03 accepted 1\n",
      "at minima 1.560287e-03 accepted 1\n",
      "at minima 1.560200e-03 accepted 1\n",
      "at minima 1.560442e-03 accepted 1\n",
      "at minima 1.560241e-03 accepted 1\n",
      "at minima 1.560009e-03 accepted 1\n",
      "at minima 1.560192e-03 accepted 1\n",
      "at minima 1.560903e-03 accepted 1\n",
      "at minima 1.560929e-03 accepted 1\n",
      "at minima 1.561141e-03 accepted 1\n",
      "at minima 1.560935e-03 accepted 1\n",
      "at minima 1.560012e-03 accepted 1\n",
      "at minima 1.560119e-03 accepted 1\n",
      "at minima 1.559932e-03 accepted 1\n",
      "at minima 1.559912e-03 accepted 1\n",
      "at minima 1.559814e-03 accepted 1\n",
      "at minima 1.559454e-03 accepted 1\n",
      "at minima 1.559435e-03 accepted 1\n",
      "at minima 1.559310e-03 accepted 1\n",
      "at minima 1.559392e-03 accepted 1\n",
      "at minima 1.559605e-03 accepted 1\n",
      "at minima 1.559469e-03 accepted 1\n",
      "at minima 1.559649e-03 accepted 1\n",
      "at minima 1.559490e-03 accepted 1\n",
      "at minima 1.559469e-03 accepted 1\n",
      "at minima 1.559229e-03 accepted 1\n",
      "at minima 1.559052e-03 accepted 1\n",
      "at minima 1.558993e-03 accepted 1\n",
      "at minima 1.559119e-03 accepted 1\n",
      "at minima 1.558902e-03 accepted 1\n",
      "at minima 1.558969e-03 accepted 1\n",
      "at minima 1.558799e-03 accepted 1\n",
      "at minima 1.558628e-03 accepted 1\n",
      "at minima 1.558814e-03 accepted 1\n",
      "at minima 4.748143e-03 accepted 1\n",
      "at minima 1.558653e-03 accepted 1\n",
      "at minima 1.558583e-03 accepted 1\n",
      "at minima 1.558631e-03 accepted 1\n",
      "at minima 1.559120e-03 accepted 1\n",
      "at minima 1.558955e-03 accepted 1\n",
      "at minima 1.559108e-03 accepted 1\n",
      "at minima 1.559592e-03 accepted 1\n",
      "at minima 1.559018e-03 accepted 1\n",
      "at minima 1.559232e-03 accepted 1\n",
      "at minima 1.559062e-03 accepted 1\n",
      "at minima 1.559013e-03 accepted 1\n",
      "at minima 1.559305e-03 accepted 1\n",
      "                        fun: 0.0015518750838231154\n",
      " lowest_optimization_result:       fun: 0.0015518750838231154\n",
      " hess_inv: array([[ 1.00000077e+00,  2.51066516e-05, -1.31203442e-02,\n",
      "         8.96643743e-03, -4.35286827e-03,  1.32523818e-05,\n",
      "        -5.20033405e-03,  3.46679694e-03,  3.80771682e-04,\n",
      "        -5.28176889e-03, -1.82798221e-03],\n",
      "       [ 2.51066516e-05,  1.00109023e+00, -4.05727967e-01,\n",
      "         2.86835834e-01, -1.40411650e-01,  4.29480198e-04,\n",
      "        -1.49725481e-01,  1.24582880e-01,  1.96282770e-02,\n",
      "        -1.57655966e-01, -6.39465128e-02],\n",
      "       [-1.31203442e-02, -4.05727967e-01,  2.27753566e+02,\n",
      "        -1.54105628e+02,  7.48164800e+01, -2.27623555e-01,\n",
      "         9.22963987e+01, -5.81254439e+01, -5.91595195e+00,\n",
      "         9.23105642e+01,  3.08517620e+01],\n",
      "       [ 8.96643743e-03,  2.86835834e-01, -1.54105628e+02,\n",
      "         1.05783789e+02, -5.11068666e+01,  1.55269260e-01,\n",
      "        -6.15584983e+01,  4.01461737e+01,  4.12940515e+00,\n",
      "        -6.22993705e+01, -2.12900202e+01],\n",
      "       [-4.35286827e-03, -1.40411650e-01,  7.48164800e+01,\n",
      "        -5.11068666e+01,  2.48055725e+01, -7.53692899e-02,\n",
      "         2.98822237e+01, -1.95253066e+01, -2.17815743e+00,\n",
      "         3.02131498e+01,  1.03524169e+01],\n",
      "       [ 1.32523818e-05,  4.29480198e-04, -2.27623555e-01,\n",
      "         1.55269260e-01, -7.53692899e-02,  1.00022944e+00,\n",
      "        -9.06168228e-02,  5.97472415e-02,  6.47161528e-03,\n",
      "        -9.17576779e-02, -3.15400746e-02],\n",
      "       [-5.20033405e-03, -1.49725481e-01,  9.22963987e+01,\n",
      "        -6.15584983e+01,  2.98822237e+01, -9.06168228e-02,\n",
      "         3.88420655e+01, -2.22148491e+01, -1.85608575e+00,\n",
      "         3.77834071e+01,  1.19277166e+01],\n",
      "       [ 3.46679694e-03,  1.24582880e-01, -5.81254439e+01,\n",
      "         4.01461737e+01, -1.95253066e+01,  5.97472415e-02,\n",
      "        -2.22148491e+01,  1.61037211e+01,  2.08922086e+00,\n",
      "        -2.31969510e+01, -8.45291208e+00],\n",
      "       [ 3.80771682e-04,  1.96282770e-02, -5.91595194e+00,\n",
      "         4.12940515e+00, -2.17815743e+00,  6.47161528e-03,\n",
      "        -1.85608575e+00,  2.08922086e+00,  7.02862392e-01,\n",
      "        -2.20108550e+00, -1.02376837e+00],\n",
      "       [-5.28176889e-03, -1.57655966e-01,  9.23105642e+01,\n",
      "        -6.22993705e+01,  3.02131498e+01, -9.17576779e-02,\n",
      "         3.77834071e+01, -2.31969510e+01, -2.20108550e+00,\n",
      "         3.75343936e+01,  1.23250023e+01],\n",
      "       [-1.82798221e-03, -6.39465128e-02,  3.08517620e+01,\n",
      "        -2.12900202e+01,  1.03524169e+01, -3.15400746e-02,\n",
      "         1.19277166e+01, -8.45291208e+00, -1.02376837e+00,\n",
      "         1.23250023e+01,  5.43751561e+00]])\n",
      "      jac: array([-2.48837750e-09, -1.41939381e-07,  9.34043783e-07, -8.79223080e-05,\n",
      "       -3.08821109e-04, -2.55240593e-08, -4.50490334e-05,  2.96348589e-05,\n",
      "       -1.40874021e-04,  1.54426860e-04,  1.03333005e-05])\n",
      "  message: 'Desired error not necessarily achieved due to precision loss.'\n",
      "     nfev: 1806\n",
      "      nit: 58\n",
      "     njev: 138\n",
      "   status: 2\n",
      "  success: False\n",
      "        x: array([ -74.97096932, -172.10392144,   -1.49121723,    2.3508149 ,\n",
      "         -0.50748864,   16.54887568,    3.32002213,   -1.57284662,\n",
      "          2.16091127,    2.35397624,   -5.59404313])\n",
      "                    message: ['requested number of basinhopping iterations completed successfully']\n",
      "      minimization_failures: 84\n",
      "                       nfev: 191934\n",
      "                        nit: 100\n",
      "                       njev: 14689\n",
      "                          x: array([ -74.97096932, -172.10392144,   -1.49121723,    2.3508149 ,\n",
      "         -0.50748864,   16.54887568,    3.32002213,   -1.57284662,\n",
      "          2.16091127,    2.35397624,   -5.59404313])\n"
     ]
    }
   ],
   "source": [
    "minimizer_kwargs = {\"method\": \"BFGS\"}\n",
    "#minimizer_kwargs = {\"method\": \"Nelder-Mead\"}\n",
    "res = optimize.basinhopping(obj, x0, minimizer_kwargs=minimizer_kwargs, callback=print_fun)\n",
    "print(res)"
   ]
  },
  {
   "cell_type": "code",
   "execution_count": 7,
   "metadata": {},
   "outputs": [
    {
     "name": "stdout",
     "output_type": "stream",
     "text": [
      "[ -74.97096932 -172.10392144   -1.49121723    2.3508149    -0.50748864\n",
      "   16.54887568    3.32002213   -1.57284662    2.16091127    2.35397624\n",
      "   -5.59404313]\n"
     ]
    }
   ],
   "source": [
    "print(res.x)"
   ]
  },
  {
   "cell_type": "code",
   "execution_count": 8,
   "metadata": {},
   "outputs": [],
   "source": [
    "#xa, f = get_function([0.95580826,  0.72239233,  0.14760652, -0.13288015,  0.93656345])\n",
    "xa, f = get_function(res.x)\n",
    "ab = np.abs(xa)"
   ]
  },
  {
   "cell_type": "code",
   "execution_count": 9,
   "metadata": {},
   "outputs": [
    {
     "data": {
      "text/plain": [
       "(-1.1, 1.1)"
      ]
     },
     "execution_count": 9,
     "metadata": {},
     "output_type": "execute_result"
    },
    {
     "data": {
      "image/png": "[encoded data removed]",
      "text/plain": [
       "<Figure size 432x288 with 1 Axes>"
      ]
     },
     "metadata": {
      "needs_background": "light"
     },
     "output_type": "display_data"
    }
   ],
   "source": [
    "plt.plot(xa,f)\n",
    "plt.plot(xa,ab)\n",
    "plt.xlim(-1.1,1.1)"
   ]
  },
  {
   "cell_type": "code",
   "execution_count": null,
   "metadata": {},
   "outputs": [],
   "source": []
  }
 ],
 "metadata": {
  "kernelspec": {
   "display_name": "Python 3",
   "language": "python",
   "name": "python3"
  },
  "language_info": {
   "codemirror_mode": {
    "name": "ipython",
    "version": 3
   },
   "file_extension": ".py",
   "mimetype": "text/x-python",
   "name": "python",
   "nbconvert_exporter": "python",
   "pygments_lexer": "ipython3",
   "version": "3.7.2"
  }
 },
 "nbformat": 4,
 "nbformat_minor": 2
}
